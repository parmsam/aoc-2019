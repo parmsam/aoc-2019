{
 "cells": [
  {
   "cell_type": "code",
   "execution_count": 71,
   "metadata": {},
   "outputs": [
    {
     "data": {
      "text/plain": [
       "3224742"
      ]
     },
     "execution_count": 71,
     "metadata": {},
     "output_type": "execute_result"
    }
   ],
   "source": [
    "#aoc \n",
    "#day2 p1\n",
    "#parmsam\n",
    "#function\n",
    "def graviy_assistCalc(a): \n",
    "    pos = 0 \n",
    "    while True:\n",
    "        opcode = a[pos]\n",
    "        if opcode == 99:\n",
    "            break\n",
    "        b = a[a[pos+1]]\n",
    "        c = a[a[pos+2]]\n",
    "        if opcode == 1:\n",
    "            a[a[pos+3]] = b + c \n",
    "        if opcode == 2:\n",
    "            a[a[pos+3]] = b * c \n",
    "        pos = pos + 4\n",
    "        #print([b,c])\n",
    "    return(a)\n",
    "\n",
    "#test cases\n",
    "#a = [1,9,10,3,2,3,11,0,99,30,40,50]\n",
    "#a = [2,4,4,5,99,0]\n",
    "#a = [1,1,1,4,99,5,6,0,99]\n",
    "#graviy_assistCalc(a)\n",
    "\n",
    "#input and pre-processing\n",
    "prob_input = [1,0,0,3,1,1,2,3,1,3,4,3,1,5,0,3,2,1,6,19,1,19,6,23,2,23,6,27,2,6,27,31,2,13,31,35,1,9,35,39,2,10,39,43,1,6,43,47,1,13,47,51,2,6,51,55,2,55,6,59,1,59,5,63,2,9,63,67,1,5,67,71,2,10,71,75,1,6,75,79,1,79,5,83,2,83,10,87,1,9,87,91,1,5,91,95,1,95,6,99,2,10,99,103,1,5,103,107,1,107,6,111,1,5,111,115,2,115,6,119,1,119,6,123,1,123,10,127,1,127,13,131,1,131,2,135,1,135,5,0,99,2,14,0,0]\n",
    "prob_input[1] = 12\n",
    "prob_input[2] = 2\n",
    "b= graviy_assistCalc(prob_input)\n",
    "b[0]\n",
    "\n",
    "#correct answer\n",
    "#3224742"
   ]
  },
  {
   "cell_type": "code",
   "execution_count": 145,
   "metadata": {},
   "outputs": [
    {
     "name": "stdout",
     "output_type": "stream",
     "text": [
      "7960\n",
      "7960\n"
     ]
    }
   ],
   "source": [
    "#day2 p2\n",
    "import random as rand\n",
    "prog_original = [1,0,0,3,1,1,2,3,1,3,4,3,1,5,0,3,2,1,6,19,1,19,6,23,2,23,6,27,2,6,27,31,2,13,31,35,1,9,35,39,2,10,39,43,1,6,43,47,1,13,47,51,2,6,51,55,2,55,6,59,1,59,5,63,2,9,63,67,1,5,67,71,2,10,71,75,1,6,75,79,1,79,5,83,2,83,10,87,1,9,87,91,1,5,91,95,1,95,6,99,2,10,99,103,1,5,103,107,1,107,6,111,1,5,111,115,2,115,6,119,1,119,6,123,1,123,10,127,1,127,13,131,1,131,2,135,1,135,5,0,99,2,14,0,0]\n",
    "    \n",
    "interest_val = 19690720\n",
    "def p2_nounverbsProcess():\n",
    "    #prob_input = prog_original\n",
    "    #print(prog_original)\n",
    "    for i in range(100000):\n",
    "        #prog_input = copy.deepcopy(df)\n",
    "        prob_input = [1,0,0,3,1,1,2,3,1,3,4,3,1,5,0,3,2,1,6,19,1,19,6,23,2,23,6,27,2,6,27,31,2,13,31,35,1,9,35,39,2,10,39,43,1,6,43,47,1,13,47,51,2,6,51,55,2,55,6,59,1,59,5,63,2,9,63,67,1,5,67,71,2,10,71,75,1,6,75,79,1,79,5,83,2,83,10,87,1,9,87,91,1,5,91,95,1,95,6,99,2,10,99,103,1,5,103,107,1,107,6,111,1,5,111,115,2,115,6,119,1,119,6,123,1,123,10,127,1,127,13,131,1,131,2,135,1,135,5,0,99,2,14,0,0]\n",
    "        noun = rand.randint(1,100)\n",
    "        verb = rand.randint(1,100)\n",
    "        prob_input[1] = noun\n",
    "        prob_input[2] = verb\n",
    "        #print(noun,verb)\n",
    "        test = graviy_assistCalc(prob_input)\n",
    "        #print(test)\n",
    "        if test[0] == interest_val:\n",
    "            return (100*noun)+verb\n",
    "        else:\n",
    "            #print(\"input: \")\n",
    "            #print(prog_input)\n",
    "            continue\n",
    "        \n",
    "a = p2_nounverbsProcess()\n",
    "print(a)\n",
    "\n",
    "#another way of doing this\n",
    "import copy\n",
    "for i in range(100000):\n",
    "    #prog_input = copy.deepcopy(df)\n",
    "    prob_input = copy.deepcopy(prob_original)\n",
    "    noun = rand.randint(1,100)\n",
    "    verb = rand.randint(1,100)\n",
    "    prob_input[1] = noun\n",
    "    prob_input[2] = verb\n",
    "    #print(noun,verb)\n",
    "    test = graviy_assistCalc(prob_input)\n",
    "    #print(test)\n",
    "    if test[0] == interest_val:\n",
    "        print((100*noun)+verb)\n",
    "        break\n",
    "    else:\n",
    "        #print(\"input: \")\n",
    "        #print(prog_input)\n",
    "        continue\n",
    "        \n",
    "#correct answer\n",
    "#7960"
   ]
  }
 ],
 "metadata": {
  "kernelspec": {
   "display_name": "Python 3",
   "language": "python",
   "name": "python3"
  },
  "language_info": {
   "codemirror_mode": {
    "name": "ipython",
    "version": 3
   },
   "file_extension": ".py",
   "mimetype": "text/x-python",
   "name": "python",
   "nbconvert_exporter": "python",
   "pygments_lexer": "ipython3",
   "version": "3.7.4"
  }
 },
 "nbformat": 4,
 "nbformat_minor": 2
}
