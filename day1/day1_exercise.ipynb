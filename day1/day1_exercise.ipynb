{
 "cells": [
  {
   "cell_type": "code",
   "execution_count": 1,
   "metadata": {},
   "outputs": [],
   "source": [
    "#advent of code 2019\n",
    "#code author: parmsam\n",
    "#day 1\n",
    "#part 1:"
   ]
  },
  {
   "cell_type": "code",
   "execution_count": 2,
   "metadata": {},
   "outputs": [],
   "source": [
    "#import packages\n",
    "import pandas as pd\n",
    "import numpy as np"
   ]
  },
  {
   "cell_type": "code",
   "execution_count": 3,
   "metadata": {},
   "outputs": [],
   "source": [
    "#import puzzle input\n",
    "inputData = pd.read_table(\"day1_input.txt\",header=None)\n",
    "inputData.columns = [\"mass\"]\n",
    "#print(inputData.head())"
   ]
  },
  {
   "cell_type": "code",
   "execution_count": 58,
   "metadata": {},
   "outputs": [],
   "source": [
    "#write function to perform each fuel calculation\n",
    "def fuel_requirement(mass):\n",
    "    return (np.floor(mass/3) - 2)\n",
    "#write function to sum all fuel requirements \n",
    "def total_fuel(eachFuel):\n",
    "    total = 0\n",
    "    for i in eachFuel:\n",
    "        #total += i\n",
    "        total += i\n",
    "    #print(total)\n",
    "    return int(total)"
   ]
  },
  {
   "cell_type": "code",
   "execution_count": 59,
   "metadata": {},
   "outputs": [
    {
     "data": {
      "text/plain": [
       "3406432"
      ]
     },
     "execution_count": 59,
     "metadata": {},
     "output_type": "execute_result"
    }
   ],
   "source": [
    "total_p1 = total_fuel(fuel_requirement(inputData.mass))\n",
    "total_p1"
   ]
  },
  {
   "cell_type": "code",
   "execution_count": 52,
   "metadata": {},
   "outputs": [
    {
     "name": "stdout",
     "output_type": "stream",
     "text": [
      "0    34612.0\n",
      "1    24207.0\n",
      "2    40408.0\n",
      "3    40317.0\n",
      "4    31426.0\n",
      "Name: mass, dtype: float64\n",
      "mass    int32\n",
      "dtype: object\n"
     ]
    }
   ],
   "source": [
    "print(fuel_requirement(inputData.mass).head())\n",
    "#success!\n",
    "#3406432.0\n",
    "inputData = inputData.astype(int)\n",
    "print(str(inputData.dtypes))"
   ]
  },
  {
   "cell_type": "code",
   "execution_count": 61,
   "metadata": {},
   "outputs": [],
   "source": [
    "#part 2:\n",
    "def fuel_requires_fuel(mass):\n",
    "    fuel_initial = mass\n",
    "    fuel_total = 0\n",
    "    while fuel_initial > 0:\n",
    "        #fuel_initial = (np.floor(fuel_initial/3) - 2)\n",
    "        fuel_initial = fuel_requirement(fuel_initial)\n",
    "        if fuel_initial > 0:\n",
    "            fuel_total = fuel_initial + fuel_total\n",
    "        if fuel_initial < 0: \n",
    "            break\n",
    "    return int(fuel_total)"
   ]
  },
  {
   "cell_type": "code",
   "execution_count": 60,
   "metadata": {},
   "outputs": [
    {
     "data": {
      "text/plain": [
       "5106777"
      ]
     },
     "execution_count": 60,
     "metadata": {},
     "output_type": "execute_result"
    }
   ],
   "source": [
    "fuel_reqs = inputData.mass.apply(fuel_requires_fuel)\n",
    "new_total_fuel_req = total_fuel(fuel_reqs)\n",
    "new_total_fuel_req"
   ]
  }
 ],
 "metadata": {
  "kernelspec": {
   "display_name": "Python 3",
   "language": "python",
   "name": "python3"
  },
  "language_info": {
   "codemirror_mode": {
    "name": "ipython",
    "version": 3
   },
   "file_extension": ".py",
   "mimetype": "text/x-python",
   "name": "python",
   "nbconvert_exporter": "python",
   "pygments_lexer": "ipython3",
   "version": "3.7.4"
  }
 },
 "nbformat": 4,
 "nbformat_minor": 2
}
