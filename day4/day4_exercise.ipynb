{
 "cells": [
  {
   "cell_type": "code",
   "execution_count": 1,
   "metadata": {},
   "outputs": [],
   "source": [
    "import string\n",
    "import numpy\n",
    "import pandas"
   ]
  },
  {
   "cell_type": "code",
   "execution_count": 2,
   "metadata": {},
   "outputs": [
    {
     "name": "stdout",
     "output_type": "stream",
     "text": [
      "['265275', '781584']\n"
     ]
    }
   ],
   "source": [
    "range_str = \"265275-781584\"\n",
    "t = range_str.split('-')\n",
    "print(t)"
   ]
  },
  {
   "cell_type": "code",
   "execution_count": 166,
   "metadata": {},
   "outputs": [
    {
     "name": "stdout",
     "output_type": "stream",
     "text": [
      "23789\n",
      "['11', '22', '33', '44', '55', '66', '77', '88', '99']\n",
      "['111', '222', '333', '444', '555', '666', '777', '888', '999']\n"
     ]
    },
    {
     "data": {
      "text/plain": [
       "'2222'"
      ]
     },
     "execution_count": 166,
     "metadata": {},
     "output_type": "execute_result"
    }
   ],
   "source": [
    "test_case1_yes = '111111'\n",
    "test_case1_no = '223450'\n",
    "test_case2_no = '123789'\n",
    "print(test_case2_no[1:])\n",
    "rep_list = []\n",
    "for i in '123456789':\n",
    "    rep_list.append(i*2)\n",
    "print(rep_list)\n",
    "rej_list = []\n",
    "for i in '123456789':\n",
    "    rej_list.append(i*3)\n",
    "print(rej_list)\n",
    "rej_list[1] + rej_list[1][-1]"
   ]
  },
  {
   "cell_type": "code",
   "execution_count": 188,
   "metadata": {},
   "outputs": [
    {
     "name": "stdout",
     "output_type": "stream",
     "text": [
      "123348\n",
      "111111\n"
     ]
    }
   ],
   "source": [
    "def dup_check(string):\n",
    "    for index,value in enumerate(string):\n",
    "        try:\n",
    "            if value == y:\n",
    "                #print(string + \" has dups\")\n",
    "                return string\n",
    "            else:\n",
    "                y = value\n",
    "                continue\n",
    "        except:\n",
    "            y = value\n",
    "            #x = str(value)\n",
    "\n",
    "\n",
    "def two_dup_check(string):\n",
    "    rep_count = 0\n",
    "    string = str(string)\n",
    "    for i in rep_list:\n",
    "        if i in string:\n",
    "            j = i + i[-1]\n",
    "            if j not in string:\n",
    "                #print(string)\n",
    "                return string\n",
    "\n",
    "def incr_check(string, length=6):\n",
    "    for index,value in enumerate(string):\n",
    "        #check to see if each digit increases compared to previous or is same as previous\n",
    "        #if value at position is higher than previous then continue \n",
    "        try:\n",
    "            if value >= y: #check to see if current value is more than or equal to previous\n",
    "                y = value\n",
    "                x += str(value)\n",
    "                continue\n",
    "            #otherwise break the pass check loop\n",
    "            else: \n",
    "                break\n",
    "        except:  #initialize first digit in seq into relevant vars\n",
    "            y = value \n",
    "            x = str(value) \n",
    "    #check to see that every digit in number meets check criteria\n",
    "    if len(x) == length:\n",
    "        #print(x + \" does pass inc check\") \n",
    "        return x\n",
    "\n",
    "def both_cond_check(string):\n",
    "    string = str(string)\n",
    "    if dup_check(string):\n",
    "        if incr_check(string):\n",
    "            #print(string + \" passes\")\n",
    "            return string\n",
    "    else:\n",
    "        pass\n",
    "        #print(\"fail\")\n",
    "        \n",
    "def both_cond_check2(string):\n",
    "    string = str(string)\n",
    "    if two_dup_check(string):\n",
    "        if incr_check(string):\n",
    "            #print(string + \" passes\")\n",
    "            return string\n",
    "    else:\n",
    "        pass\n",
    "        #print(\"fail\")\n",
    "        \n",
    "incr_check(test_case1_yes)\n",
    "incr_check('111123')\n",
    "incr_check('262611')\n",
    "\n",
    "dup_check(test_case1_yes)\n",
    "dup_check('123348')\n",
    "\n",
    "x = both_cond_check('123348')\n",
    "y = both_cond_check(test_case1_yes)\n",
    "print(x)\n",
    "print(y)"
   ]
  },
  {
   "cell_type": "code",
   "execution_count": 189,
   "metadata": {},
   "outputs": [
    {
     "name": "stdout",
     "output_type": "stream",
     "text": [
      "122368\n",
      "122335\n",
      "122444\n",
      "111122\n",
      "None\n",
      "1223457\n"
     ]
    }
   ],
   "source": [
    "# print(two_dup_check('122368'))\n",
    "# print(two_dup_check('122335'))\n",
    "# print(two_dup_check('122444'))\n",
    "# print(two_dup_check('111122'))\n",
    "# print(two_dup_check('123444'))\n",
    "# print(dup_check('1223457'))"
   ]
  },
  {
   "cell_type": "code",
   "execution_count": 190,
   "metadata": {},
   "outputs": [
    {
     "name": "stdout",
     "output_type": "stream",
     "text": [
      "960\n"
     ]
    }
   ],
   "source": [
    "#265275-781584\n",
    "#problem 1 here\n",
    "list_numbs = []\n",
    "for i in range(265275, 781584 + 1, 1):\n",
    "    if both_cond_check(i):\n",
    "        #print(i)\n",
    "        list_numbs.append(i)\n",
    "    else:\n",
    "        continue\n",
    "print(len(list_numbs))"
   ]
  },
  {
   "cell_type": "code",
   "execution_count": 191,
   "metadata": {},
   "outputs": [
    {
     "name": "stdout",
     "output_type": "stream",
     "text": [
      "626\n"
     ]
    }
   ],
   "source": [
    "#265275-781584\n",
    "#problem 2 here\n",
    "list_numbs = []\n",
    "for i in range(265275, 781584 + 1, 1):\n",
    "    if both_cond_check2(i):\n",
    "        #print(i)\n",
    "        list_numbs.append(i)\n",
    "    else:\n",
    "        continue\n",
    "print(len(list_numbs))\n",
    "#list_numbs"
   ]
  }
 ],
 "metadata": {
  "kernelspec": {
   "display_name": "Python 3",
   "language": "python",
   "name": "python3"
  },
  "language_info": {
   "codemirror_mode": {
    "name": "ipython",
    "version": 3
   },
   "file_extension": ".py",
   "mimetype": "text/x-python",
   "name": "python",
   "nbconvert_exporter": "python",
   "pygments_lexer": "ipython3",
   "version": "3.8.5"
  }
 },
 "nbformat": 4,
 "nbformat_minor": 2
}
